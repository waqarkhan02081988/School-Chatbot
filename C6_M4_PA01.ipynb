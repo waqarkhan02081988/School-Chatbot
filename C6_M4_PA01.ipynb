{
 "cells": [
  {
   "cell_type": "markdown",
   "metadata": {
    "deletable": false,
    "editable": false,
    "nbgrader": {
     "cell_type": "markdown",
     "checksum": "5d415db726914f54374ed276b29e8ab4",
     "grade": false,
     "grade_id": "cell-eabf0ceb862d018d",
     "locked": true,
     "schema_version": 3,
     "solution": false,
     "task": false
    }
   },
   "source": [
    "# Activity: Creating a chatbot for your client\n",
    "## Objective\n",
    "In this exercise, you will generate the following six outputs: a problem statement, a proposed solution, key features, benefits, a call to action, and a basic prototype for a school chatbot.\n",
    "## Scenario\n",
    "Imagine you are a student at Coursera High School, a large public high school with over 2,000 students. The school has a website that provides basic information, but it's not very user-friendly, and parents often have trouble finding what they need. The school administration is looking for ways to improve communication and engagement with parents, especially as the school is introducing several new initiatives (e.g., a new after-school program, updated academic requirements, a revised code of conduct).\n",
    "\n",
    "You've noticed that parents often have to call the school office for simple inquiries, like checking school hours, finding out about upcoming events, or clarifying school policies. The office staff is often overwhelmed with calls, and parents sometimes have to wait on hold for extended periods. You believe a chatbot could be a valuable solution to address these communication challenges and improve the overall parent experience.\n",
    "\n",
    "In this exercise, you will generate the following six outputs: a problem statement, a proposed solution, key features, benefits, a call to action, and a basic prototype for a school chatbot.\n",
    "## Materials Provided\n",
    "- Starter code\n",
    "- Python environment with spaCy library and English-language spaCy model.\n",
    "\n",
    "## High-Level Tasks\n",
    "Generate a problem statement, a proposed solution, key features, benefits, a call to action, and a basic prototype for a school chatbot."
   ]
  },
  {
   "cell_type": "markdown",
   "metadata": {
    "deletable": false,
    "editable": false,
    "nbgrader": {
     "cell_type": "markdown",
     "checksum": "2b6a280f530b7df0d14987eb55a485ca",
     "grade": false,
     "grade_id": "cell-286a9cdacd8ee4f1",
     "locked": true,
     "schema_version": 3,
     "solution": false,
     "task": false
    }
   },
   "source": [
    "## STEP 1: Craft a compelling problem statement\n",
    "A strong problem statement is the foundation of your chatbot pitch. It clearly articulates the challenges your chatbot aims to address, setting the stage for your proposed solution. Remember the context of Coursera High School from the scenario.\n",
    "\n",
    "Key points to consider:\n",
    "- **Specificity**: Clearly identify the specific communication or information access issues the school faces. Avoid vague or general statements.\n",
    "- **Impact**: Explain the impact of these challenges on parents, students, and/or staff. How do these problems affect their experience or productivity?\n",
    "- **Relevance**: Connect the problems to the potential benefits of a chatbot solution. Show how a chatbot can directly address the identified issues.\n",
    "- **Word count**: Aim for 75-100 words.\n",
    "\n",
    "Develop a problem statement for this project. Review the scenario provided earlier in this project. "
   ]
  },
  {
   "cell_type": "code",
   "execution_count": null,
   "metadata": {},
   "outputs": [],
   "source": [
    "# Please write a problem statement (75-100 words). Please ensure each new line starts with a # to allow the grader to function.\n",
    "# Coursera highschool, with over 2,000 students faces significant communication challenges between parents and the school.\n",
    "# The current website is not user-friendly, making it difficult for parents to access important information about school hours,\n",
    "# events and policies. As a result, the school office is overwhelmed with phone calls for simple inquiries, leading to long wait\n",
    "# times and frustation for parents. This inefficient system reduces staff productivity and hinders parent engagement, especially\n",
    "# as the school introduces new initiatives requiring clear and timely communication."
   ]
  },
  {
   "cell_type": "code",
   "execution_count": null,
   "metadata": {
    "deletable": false,
    "editable": false,
    "nbgrader": {
     "cell_type": "code",
     "checksum": "57fe9f985066d345013c989ae914664e",
     "grade": true,
     "grade_id": "cell-7d31d6a0039490d6",
     "locked": true,
     "points": 2,
     "schema_version": 3,
     "solution": false,
     "task": false
    }
   },
   "outputs": [],
   "source": [
    "# Checking Your Results"
   ]
  },
  {
   "cell_type": "markdown",
   "metadata": {
    "deletable": false,
    "editable": false,
    "nbgrader": {
     "cell_type": "markdown",
     "checksum": "edee205bb8bb7c97a205df5c6af4514d",
     "grade": false,
     "grade_id": "cell-e8f90b275060da9a",
     "locked": true,
     "schema_version": 3,
     "solution": false,
     "task": false
    }
   },
   "source": [
    "<details>\n",
    "<summary>Expert's Response</summary>\n",
    "SAMPLE SOLUTION: Coursera High School, with its large student body and various new initiatives, faces communication bottlenecks that impact parents and staff. Parents struggle to connect with the school office due to high call volumes and limited office hours, making it difficult to get timely answers to their questions.  Important information about new programs, updated policies, and upcoming events is often hard to find on the website, leading to confusion and missed opportunities for parent involvement. This inefficient communication flow hinders effective engagement and creates unnecessary frustration for both parents and school staff.\n",
    "</details>\n"
   ]
  },
  {
   "cell_type": "markdown",
   "metadata": {
    "deletable": false,
    "editable": false,
    "nbgrader": {
     "cell_type": "markdown",
     "checksum": "1f9727c5e8b4c103d1b97c2442d2e189",
     "grade": false,
     "grade_id": "cell-dce97421dac8dba7",
     "locked": true,
     "schema_version": 3,
     "solution": false,
     "task": false
    }
   },
   "source": [
    "## STEP 2: Propose a chatbot solution\n",
    "Now that you've identified the communication challenges at Coursera High School, it's time to introduce your proposed solution: a chatbot built using spaCy. Clearly explain what a chatbot is and how it can address the problems you outlined in your problem statement. Be sure to mention spaCy as the chosen platform for developing the chatbot. \n",
    "\n",
    "Key points to consider:\n",
    "- **Define a chatbot**: Provide a concise and easy-to-understand explanation of what a chatbot is and how it works.\n",
    "- **Connect to the problem**: Explicitly link the capabilities of a chatbot to the specific problems you identified in the previous step.\n",
    "- **Highlight key functionalities**: Briefly mention the core functions your chatbot will offer to address those problems.\n",
    "- **Mention spaCy**: Introduce spaCy as the chosen platform for building the chatbot. Briefly explain why spaCy is suitable for this project (e.g., its natural language processing capabilities, ease of use, your familiarity with the tool, etc.).\n",
    "- **Focus on value**: Emphasize how a chatbot can add value to the school community and improve communication.\n",
    "- **Address your familiarity**: Mention your current level of experience or familiarity with spaCy.\n",
    "- **Discuss web integration**: Briefly explain that while spaCy handles the chatbot's \"brain,\" you'll need additional tools to integrate it into the school website. You can mention that there are various ways to do this in the future, such as:\n",
    "  - Using a web framework like Flask or Django to create a web application that interacts with the spaCy chatbot.\n",
    "  - Connecting the spaCy chatbot to a messaging platform like Facebook Messenger or Slack, which can then be embedded on the website.\n",
    "  - Using a chatbot platform that provides web integration capabilities.\n",
    "- **Iterative development**: Explain that this initial project focuses on building the core chatbot functionality with spaCy, and future iterations could explore web integration with Flask or other frameworks.\n",
    "- **Word count**: Aim for approximately 150-200 words for this section.\n",
    "\n",
    "Develop a problem statement for this project. Review the scenario provided earlier in this project. "
   ]
  },
  {
   "cell_type": "code",
   "execution_count": null,
   "metadata": {},
   "outputs": [],
   "source": [
    "# Please enter your proposal (150-200 words). Please ensure each new line starts with a # to allow the grader to function.\n",
    "# A chatbot is an AI-powered tool that can interact with users in real time, answering questions and providing information in a\n",
    "# conversational format. For Coursera High School, a chatbot can serve as a virtual assistant for parents, offering quick and\n",
    "# accurate responses to common inquiries such as school hours, upcoming events, after-school programs and policies - without the\n",
    "# need to call the office. This will reduce the burden on office staff while improving accessibility and engagement for parents.\n",
    "\n",
    "# We propose building the Chatbot using spaCy, a leading natural language processing library in python. SpaCy is well-suited for\n",
    "# this project because it allows us to understand and process natural language efficiently, making interactions with parents feel\n",
    "# intuitive and accurate. While I am still at a beginner-to-intermediate level with spaCy, its ease of use and robust documentation\n",
    "# make it an ideal platform to learn and implement.\n",
    "\n",
    "# For now, the focus will be on developing the chatbot's \"brain\" using spaCy. In future iterations, we can integrate it into the\n",
    "# school's website through a web framework like Django or Flask, or embed it in the messaging platforms such as Messanger of Slack\n",
    "# for seamless web interaction. This iterative approach ensures that Coursera High School quickly gains a valuable tool for\n",
    "# improving parent-school communication."
   ]
  },
  {
   "cell_type": "code",
   "execution_count": null,
   "metadata": {
    "deletable": false,
    "editable": false,
    "nbgrader": {
     "cell_type": "code",
     "checksum": "4446c243b8ef85fbda01468ed374dc8e",
     "grade": true,
     "grade_id": "cell-ae17b29fd83ac039",
     "locked": true,
     "points": 2,
     "schema_version": 3,
     "solution": false,
     "task": false
    }
   },
   "outputs": [],
   "source": [
    "# Checking Your Results"
   ]
  },
  {
   "cell_type": "markdown",
   "metadata": {
    "deletable": false,
    "editable": false,
    "nbgrader": {
     "cell_type": "markdown",
     "checksum": "6d0e68ee145b7ec46cb07cb2fcc29154",
     "grade": false,
     "grade_id": "cell-0952b4006fc5cc35",
     "locked": true,
     "schema_version": 3,
     "solution": false,
     "task": false
    }
   },
   "source": [
    "<details>\n",
    "<summary>Expert's Response</summary>\n",
    "SAMPLE SOLUTION: To address these communication challenges, I propose the development of an AI-powered chatbot for the Coursera High School website. I've been learning about spaCy, a powerful natural language processing library in Python, and I believe it's the ideal tool to build the chatbot's core logic. SpaCy excels at understanding and interpreting human language, which is essential for a chatbot to provide relevant and accurate responses.\n",
    "\n",
    "A chatbot is a computer program designed to simulate conversation with human users, providing information and assistance through a chat interface. This chatbot can be available 24/7, providing instant support to parents who have questions or need information outside of regular office hours. It can be programmed to answer frequently asked questions, provide details about school events and programs, and guide parents to relevant resources on the website.\n",
    "\n",
    "For this initial phase of the project, I'll focus on developing the chatbot's core functionality using spaCy. This will involve creating the logic to understand user requests, extract key information, and provide accurate and helpful responses. In future iterations, we can explore integrating the chatbot into the school website using web frameworks like Flask, ensuring it's easily accessible to parents.\n",
    "</details>  "
   ]
  },
  {
   "cell_type": "markdown",
   "metadata": {
    "deletable": false,
    "editable": false,
    "nbgrader": {
     "cell_type": "markdown",
     "checksum": "134480d1128803349ca35315bc676d86",
     "grade": false,
     "grade_id": "cell-b311cb6acc1976aa",
     "locked": true,
     "schema_version": 3,
     "solution": false,
     "task": false
    }
   },
   "source": [
    "## STEP 3: Highlight key features\n",
    "Now that you've presented the problem and your proposed chatbot solution, it's time to delve into the specifics. Describe the key features and functionalities of your chatbot, focusing on how they will address the needs of parents and the school.\n",
    "\n",
    "Key points to consider:\n",
    "- **Relevance**: Ensure the features directly address the communication challenges you identified earlier.\n",
    "- **Specificity**: Clearly describe each feature and its purpose. Avoid vague or general statements.\n",
    "- **User-friendliness**: Emphasize how the features will be easy for parents to use and understand.\n",
    "- **Value**: Highlight how each feature provides value to parents, students, or the school.\n",
    "- **Prioritization**: Focus on the most important and impactful features.\n",
    "- **Word Count**: 100-150 words\n",
    "\n",
    "Generate a list of around 5 key features. A list with asterisks may be appropriate."
   ]
  },
  {
   "cell_type": "code",
   "execution_count": null,
   "metadata": {},
   "outputs": [],
   "source": [
    "# Please highlight the key features (100-150 words). Please ensure each new line starts with a # to allow the grader to function.\n",
    "\n",
    "# The key features and functionalities that will address the needs of parents and the school are:-\n",
    "# 1. Instant Information Access - Parents can quickly ask about school hours, holidays, academic requirements and the revised code\n",
    "#    of conduct without searching through the website.\n",
    "# 2. Event & Program Updates - The chatbot will provide timely information on upcoming events, new after-school programs, and\n",
    "#    important announcements, ensuring parents stay informed.\n",
    "# 3. Policy Clarification - Parents can receive clear explanations of school policies, such as attendance rules or conduct guidelines,\n",
    "#    reducing confusion and calls to the office.\n",
    "# 4. Search-Friendly Responses - Using SpaCy's NLP capabilities, the chatbot will understand natural language questions e.g., \"When\n",
    "#    does school start tomorrow?\" and provide accurate answers.\n",
    "# 5. Scalable Knowledge Base - The chatbot will be designed to expand overtime, allowing the school to easily add new FAQs and resource\n",
    "#    initiatives evolve."
   ]
  },
  {
   "cell_type": "code",
   "execution_count": null,
   "metadata": {
    "deletable": false,
    "editable": false,
    "nbgrader": {
     "cell_type": "code",
     "checksum": "e4e2f800aff652e1d859dd7ae8099475",
     "grade": true,
     "grade_id": "cell-5e0be6cab1fd5c6f",
     "locked": true,
     "points": 2,
     "schema_version": 3,
     "solution": false,
     "task": false
    }
   },
   "outputs": [],
   "source": [
    "# Checking Your Results"
   ]
  },
  {
   "cell_type": "markdown",
   "metadata": {
    "deletable": false,
    "editable": false,
    "nbgrader": {
     "cell_type": "markdown",
     "checksum": "ce9290c2e76b65625f0377edca0fb5ef",
     "grade": false,
     "grade_id": "cell-47d9d4e683e418bc",
     "locked": true,
     "schema_version": 3,
     "solution": false,
     "task": false
    }
   },
   "source": [
    "<details>\n",
    "<summary>Expert's Response</summary>\n",
    "SAMPLE SOLUTION: This chatbot will be designed with the needs of Coursera High School parents in mind, offering a range of helpful features:\n",
    "        \n",
    "- Instant access to key information: Parents can quickly get answers to frequently asked questions about school hours, contact information, the academic calendar, and school policies.\n",
    "\n",
    "- Event notifications and reminders: The chatbot can provide information about upcoming events, such as parent-teacher nights, school board meetings, and important deadlines, and even send reminders to ensure parents don't miss important dates.\n",
    "        \n",
    "- Personalized assistance: The chatbot can guide parents to specific resources on the website based on their needs, such as information about after-school programs, sports schedules, or the school lunch menu.\n",
    "\n",
    "- Streamlined communication: The chatbot can handle simple tasks like reporting student absences, submitting inquiries to the school office, or scheduling appointments with teachers or counselors.\n",
    "\n",
    "- 24/7 availability: The chatbot will be available around the clock, providing support and information even outside of regular office hours.\n",
    "\n",
    "These features will empower parents with easy access to information and efficient communication channels, enhancing their engagement with the school and improving the overall parent experience.\n",
    "</details>"
   ]
  },
  {
   "cell_type": "markdown",
   "metadata": {
    "deletable": false,
    "editable": false,
    "nbgrader": {
     "cell_type": "markdown",
     "checksum": "73c6cffcb86117932923f9f078d138e6",
     "grade": false,
     "grade_id": "cell-c83c1eb0eec51b46",
     "locked": true,
     "schema_version": 3,
     "solution": false,
     "task": false
    }
   },
   "source": [
    "## STEP 4: Explain the benefits\n",
    "Clearly articulate the benefits of implementing your proposed chatbot for Coursera High School. Explain how it will positively impact the school, parents, and students. \n",
    "\n",
    "Key points to consider:\n",
    "- **Specificity**: Clearly describe each benefit and how it will be achieved.\n",
    "- **Relevance**: Ensure the benefits directly address the problems and needs identified earlier.\n",
    "- **Value**: Emphasize the value proposition of the chatbot for different stakeholders.\n",
    "- **Impact**: Explain how the chatbot will make a positive difference in the school community.\n",
    "- **Word count**: Aim for 125-150 words.\n",
    "\n",
    "Generate a list of 4-7 benefits. A list with asterisks may be appropriate."
   ]
  },
  {
   "cell_type": "code",
   "execution_count": null,
   "metadata": {},
   "outputs": [],
   "source": [
    "# Please explain the benefits (125-150 words). Please ensure each new line starts with a # to allow the grader to function.\n",
    "# The following are the key benefits of implementing the proposed chatbot are:-\n",
    "# 1. Reduced Workload - By handling routine inquiries such as hours, events and policies, the chatbot frees office staff to focus\n",
    "#    on more complex tasks, improving overall efficiency.\n",
    "# 2. Improved Parent Engagement - Parents gain instant access to accurate information, encouraging them to stay more involved in\n",
    "#    school activities and initiatives.\n",
    "# 3. 24/7 Availability - Unlike office staff, the chatbot is always accessible, providing parents with support any time, even outside\n",
    "#    school hours.\n",
    "# 4. Consistent and Accurate Information - Parents receive uniform responses that eliminate misunderstandings and ensure school\n",
    "#    policies are communicated clearly.\n",
    "# 5. Time Savings for Parents - No more waiting on hold or searching through a difficult website - parents can get answers in seconds.\n",
    "# 6. Support Student Success - Better-informed parents can more effectively support their children's education and participation\n",
    "#    in extra curricular activities."
   ]
  },
  {
   "cell_type": "code",
   "execution_count": null,
   "metadata": {
    "deletable": false,
    "editable": false,
    "nbgrader": {
     "cell_type": "code",
     "checksum": "523c0eb3025d3a3b043736186aa7c3b2",
     "grade": true,
     "grade_id": "cell-dcb90c9f0efb74b7",
     "locked": true,
     "points": 2,
     "schema_version": 3,
     "solution": false,
     "task": false
    }
   },
   "outputs": [],
   "source": [
    "# Checking Your Results"
   ]
  },
  {
   "cell_type": "markdown",
   "metadata": {
    "deletable": false,
    "editable": false,
    "nbgrader": {
     "cell_type": "markdown",
     "checksum": "040a90a460b891df96fefbf25efa4f3a",
     "grade": false,
     "grade_id": "cell-79c2493fbccfe81e",
     "locked": true,
     "schema_version": 3,
     "solution": false,
     "task": false
    }
   },
   "source": [
    "<details>\n",
    "<summary>Expert's Response</summary>\n",
    "SAMPLE SOLUTION: Implementing this chatbot will bring numerous benefits to Coursera High School:\n",
    "\n",
    "- Improved Communication: The chatbot will provide a convenient and accessible channel for parents to get the information they need, reducing reliance on phone calls and emails to the busy school office.\n",
    "        \n",
    "- Increased Efficiency: By automating responses to common questions and tasks, the chatbot will free up staff time, allowing them to focus on more complex issues and provide personalized support. \n",
    "        \n",
    "- Enhanced Parent Engagement: The chatbot will empower parents with easy access to information and resources, fostering a stronger connection between the school and its community.\n",
    "        \n",
    "- Better Student Experience: Students will indirectly benefit from improved communication and increased parental involvement, leading to a more supportive and informed learning environment.\n",
    "        \n",
    "- 24/7 Availability: The chatbot will offer round-the-clock support, ensuring parents can access information and assistance whenever they need it.\n",
    "        \n",
    "- Reduced burden on website resources: If the chatbot can handle many common questions and requests, it could reduce the number of people visiting the website for those purposes, leading to faster loading times, better website performance, and reduced hosting costs, especially during peak times like the start of the school year.\n",
    "</details>"
   ]
  },
  {
   "cell_type": "markdown",
   "metadata": {
    "deletable": false,
    "editable": false,
    "nbgrader": {
     "cell_type": "markdown",
     "checksum": "d756039851afd29c6646e46dc0f234e4",
     "grade": false,
     "grade_id": "cell-197e1f0b713fb652",
     "locked": true,
     "schema_version": 3,
     "solution": false,
     "task": false
    }
   },
   "source": [
    "## STEP 5: Create a call to action\n",
    "End your chatbot pitch with a clear and compelling call to action. This is where you directly ask the school principal for their support and approval to move forward with the project.\n",
    "\n",
    "Key points to consider:\n",
    "- **Directness**: Clearly state what you are asking for (e.g., approval, support, resources).\n",
    "- **Enthusiasm**: Convey your passion for the project and your belief in its potential.\n",
    "- **Next steps**: Briefly outline the next steps you would take if your proposal is approved.\n",
    "- **Conciseness**: Keep the call to action brief and to the point.\n",
    "- **Word count**: Aim for 50-75 words."
   ]
  },
  {
   "cell_type": "code",
   "execution_count": null,
   "metadata": {},
   "outputs": [],
   "source": [
    "# Please write a call to action (50-75 words). Please ensure each new line starts with a # to allow the grader to function.\n",
    "# Call to Action\n",
    "# I kindly request your approval to more forward with developing the Coursera High School chatbot using spaCy. With your support,\n",
    "# we can begin building the core functionality to provide parents with instant, reliable information while reducing the office workload.\n",
    "# Once approved, I will begin prototyping the chatbot and exploring integration options for the school's website. Together we can make\n",
    "# communication more efficient and engaging for our school community."
   ]
  },
  {
   "cell_type": "code",
   "execution_count": null,
   "metadata": {
    "deletable": false,
    "editable": false,
    "nbgrader": {
     "cell_type": "code",
     "checksum": "05721e5de5f0d9baed03a2f0091b0746",
     "grade": true,
     "grade_id": "cell-0f897745efbdedea",
     "locked": true,
     "points": 2,
     "schema_version": 3,
     "solution": false,
     "task": false
    }
   },
   "outputs": [],
   "source": [
    "# Checking Your Results"
   ]
  },
  {
   "cell_type": "markdown",
   "metadata": {
    "deletable": false,
    "editable": false,
    "nbgrader": {
     "cell_type": "markdown",
     "checksum": "1dd9da600c48aeb9557b3830b19d0c24",
     "grade": false,
     "grade_id": "cell-6ef77ae06f0bb2ca",
     "locked": true,
     "schema_version": 3,
     "solution": false,
     "task": false
    }
   },
   "source": [
    "<details>\n",
    "<summary>Expert's Response</summary>\n",
    "SAMPLE SOLUTION: I'm confident that this chatbot can significantly benefit Coursera High School. With your approval, I would be eager to begin developing a prototype and working with the school administration to implement this valuable tool. I believe this project has the potential to transform communication and engagement within our school community, and I'm excited to contribute to its success.\n",
    "</details>"
   ]
  },
  {
   "cell_type": "markdown",
   "metadata": {
    "deletable": false,
    "editable": false,
    "nbgrader": {
     "cell_type": "markdown",
     "checksum": "b70340ec0e5b86dd81456d759a5d20d0",
     "grade": false,
     "grade_id": "cell-734ced2a60ad1c58",
     "locked": true,
     "schema_version": 3,
     "solution": false,
     "task": false
    }
   },
   "source": [
    "## STEP 6.1: Verify spaCy installation\n",
    "To start a chatbot, you will need to ensure spaCy is installed and install a language model (in this case, the core spaCy English language model). You have decided to set this up as a Jupyter Notebook for the moment. \n",
    "\n",
    "Verify installation of spaCy by using pip."
   ]
  },
  {
   "cell_type": "code",
   "execution_count": null,
   "metadata": {
    "deletable": false,
    "editable": false,
    "nbgrader": {
     "cell_type": "code",
     "checksum": "58a1e5fba3de579788ba7a1ecb36c086",
     "grade": false,
     "grade_id": "cell-0e05c8d224eb826e",
     "locked": true,
     "schema_version": 3,
     "solution": false,
     "task": false
    },
    "vscode": {
     "languageId": "shellscript"
    }
   },
   "outputs": [],
   "source": [
    "pip install spacy==3.7.2"
   ]
  },
  {
   "cell_type": "markdown",
   "metadata": {
    "deletable": false,
    "editable": false,
    "nbgrader": {
     "cell_type": "markdown",
     "checksum": "98d7bc6914938e987ae7bb84b3bc4099",
     "grade": false,
     "grade_id": "cell-759a040abf0d0f11",
     "locked": true,
     "schema_version": 3,
     "solution": false,
     "task": false
    }
   },
   "source": [
    "## STEP 6.2: Install core English spaCy model\n",
    "Once the installation is complete/verified, install the English language model. Inside of the notebook, the process to install spaCy's languages is different from doing it from the command line. You will start by importing spaCy and installing the core English library (en_core_web_sm)."
   ]
  },
  {
   "cell_type": "code",
   "execution_count": null,
   "metadata": {
    "deletable": false,
    "editable": false,
    "nbgrader": {
     "cell_type": "code",
     "checksum": "cf3bf078ab88fe0d8d1ecb913074f090",
     "grade": false,
     "grade_id": "cell-8ba65e856d56e1f5",
     "locked": true,
     "schema_version": 3,
     "solution": false,
     "task": false
    }
   },
   "outputs": [],
   "source": [
    "import spacy\n",
    "\n",
    "spacy.cli.download('en_core_web_sm')"
   ]
  },
  {
   "cell_type": "markdown",
   "metadata": {
    "deletable": false,
    "editable": false,
    "nbgrader": {
     "cell_type": "markdown",
     "checksum": "b632835f616e4d217e393252384dbbac",
     "grade": false,
     "grade_id": "cell-d208b6ebf6d34343",
     "locked": true,
     "schema_version": 3,
     "solution": false,
     "task": false
    }
   },
   "source": [
    "## STEP 7: Develop prototype\n",
    "It's time to bring your chatbot to life! Create a basic text-based prototype that demonstrates the core functionality of your chatbot. This will involve writing code using spaCy to simulate a few interactions with the chatbot.\n",
    "\n",
    "Key points to consider:\n",
    "- **Core functionality**: Focus on implementing a few key features that you highlighted earlier, such as providing school hours, contact information, or answering FAQs.\n",
    "- **Intent recognition**: Use spaCy's NLP capabilities to identify user intents from their text input.\n",
    "- **Response generation**: Create appropriate responses for each intent.\n",
    "- **Simplicity**: Keep the code simple and focused on demonstrating the core chatbot logic.\n",
    "- **User experience**: Ensure the chatbot's responses are clear, informative, and friendly.\n",
    "\n",
    "You'll be provided with starter code that has some missing pieces. Your task is to complete the code to create a functional text-based chatbot prototype. This chatbot should be able to:\n",
    "- Understand user input.\n",
    "- Identify the user's intent (what they are asking for).\n",
    "- Provide appropriate responses based on the intent.\n",
    "\n",
    "## STEP 7.1: Load the spaCy language model\n",
    "To start, in the cell below, add the correct code to load the spaCy language model (en_core_web_sm). You'll need to use the spacy.load() function. Run the cell."
   ]
  },
  {
   "cell_type": "code",
   "execution_count": null,
   "metadata": {},
   "outputs": [],
   "source": [
    "nlp = spacy.load(\"en_core_web_sm\")\n",
    "\n",
    "print(\"spaCy language model loaded successfully!\")"
   ]
  },
  {
   "cell_type": "code",
   "execution_count": null,
   "metadata": {
    "deletable": false,
    "editable": false,
    "nbgrader": {
     "cell_type": "code",
     "checksum": "6a05035a142f3e6230bb0e0f0d8c57d3",
     "grade": true,
     "grade_id": "cell-5e9a01ae4f6a88a1",
     "locked": true,
     "points": 1,
     "schema_version": 3,
     "solution": false,
     "task": false
    }
   },
   "outputs": [],
   "source": [
    "# Checking Your Results"
   ]
  },
  {
   "cell_type": "markdown",
   "metadata": {
    "deletable": false,
    "editable": false,
    "nbgrader": {
     "cell_type": "markdown",
     "checksum": "b2f92d340f1672cd4c071bc8a626c37b",
     "grade": false,
     "grade_id": "cell-d9a34b55a83fea50",
     "locked": true,
     "schema_version": 3,
     "solution": false,
     "task": false
    }
   },
   "source": [
    "## STEP 7.2: Generate responses in get_response function\n",
    "The `get_response` function generates the chatbot's response based on the identified intent. The starter code provides a response for the `get_school_hours` and `get_contact_info` intents, and an else statement to respond when no response is found.\n",
    "\n",
    "You need to add elif statements to handle two other intents (`get_principal_name` and `get_holiday_list`) and provide appropriate responses.\n",
    "\n",
    "Add two elif conditions:\n",
    "- If the intent is `get_principal_name`, respond with *The principal's name is Dr. Example Principal.*\n",
    "- If the intent is `get_holiday_list`, respond with *The school will be closed for vacations/holidays the following dates: November 10-12, December 30-January 4, January 15, February 19, and April 6-10.*\n",
    "\n",
    "The tests have been broken into multiple cells below for grading."
   ]
  },
  {
   "cell_type": "code",
   "execution_count": null,
   "metadata": {},
   "outputs": [],
   "source": [
    "def get_response(intent):\n",
    "    \"\"\"Generates an appropriate response based on the identified intent.\n",
    "\n",
    "    Args:\n",
    "      intent: The identified intent as a string.\n",
    "\n",
    "    Returns:\n",
    "      The chatbot's response as a string.\n",
    "    \"\"\"\n",
    "    if intent == \"get_school_hours\":\n",
    "        return \"School starts at 8:00 AM and ends at 3:00 PM.\"\n",
    "    elif intent == \"get_contact_info\":\n",
    "        return \"We are located at 1 Main St. You can call the main office at 123-456-7890.\"\n",
    "    elif intent == \"get_principal_name\":\n",
    "        return \"The principal's name is Dr. Example Principal.\"\n",
    "    elif intent == \"get_holiday_list\":\n",
    "        return \"The school will be closed for vacations/holidays the following dates. November 10-12, December 30-January 4, January 15, February 19, and April 6-10\"\n",
    "    else:\n",
    "        return \"Sorry, I didn't understand that. Can you please rephrase?\""
   ]
  },
  {
   "cell_type": "code",
   "execution_count": null,
   "metadata": {
    "deletable": false,
    "editable": false,
    "nbgrader": {
     "cell_type": "code",
     "checksum": "6b379938a80a50156fc3c7858fe9e7ee",
     "grade": true,
     "grade_id": "cell-bf331143a7a5a4da",
     "locked": true,
     "points": 1,
     "schema_version": 3,
     "solution": false,
     "task": false
    }
   },
   "outputs": [],
   "source": [
    "# Checking Your Results"
   ]
  },
  {
   "cell_type": "code",
   "execution_count": null,
   "metadata": {
    "deletable": false,
    "editable": false,
    "nbgrader": {
     "cell_type": "code",
     "checksum": "ac5fcbd19138e2f09b69dc039f531e3c",
     "grade": true,
     "grade_id": "cell-2b19f9ef723a0e93",
     "locked": true,
     "points": 4,
     "schema_version": 3,
     "solution": false,
     "task": false
    }
   },
   "outputs": [],
   "source": [
    "# Checking Your Results"
   ]
  },
  {
   "cell_type": "code",
   "execution_count": null,
   "metadata": {
    "deletable": false,
    "editable": false,
    "nbgrader": {
     "cell_type": "code",
     "checksum": "070e680aa9f88464c8be14bb5f3de32b",
     "grade": true,
     "grade_id": "cell-ffa1fc757c81acad",
     "locked": true,
     "points": 4,
     "schema_version": 3,
     "solution": false,
     "task": false
    }
   },
   "outputs": [],
   "source": [
    "# Checking Your Results"
   ]
  },
  {
   "cell_type": "markdown",
   "metadata": {
    "deletable": false,
    "editable": false,
    "nbgrader": {
     "cell_type": "markdown",
     "checksum": "86ee3e4dfb32dd03194f3729c29365e7",
     "grade": false,
     "grade_id": "cell-bca671d9d3243e9f",
     "locked": true,
     "schema_version": 3,
     "solution": false,
     "task": false
    }
   },
   "source": [
    "## STEP 7.3: Process user input in get_intent function\n",
    "The `get_intent` function is responsible for identifying the user's intent from their input. The starter code already handles two intents (getting school hours and contact info). Notice the user_input is processed and a token is returned. You will evaluate the token to determine what response to provide.\n",
    "\n",
    "There are two examples provided. The first shows use of an *in* condition, and the second shows an *or* condition. Notice, given the simple requirements, the token is converted to lowercase. If necessary, you could handle uppercase and lowercase values differently in more complex projects.\n",
    "\n",
    "You need to add two new conditions, one to respond with the name of the principal if the token is identified as principal, and one to respond with the school holidays if the token is identified as holidays, vacations, or closings. The return values are already provided. These correspond to the values you created in the previous step."
   ]
  },
  {
   "cell_type": "code",
   "execution_count": null,
   "metadata": {
    "deletable": false,
    "editable": false,
    "nbgrader": {
     "cell_type": "code",
     "checksum": "19fdb14545a30fb27b4e95a99e0bbbef",
     "grade": true,
     "grade_id": "cell-205bc040e9ca9290",
     "locked": true,
     "points": 1,
     "schema_version": 3,
     "solution": false,
     "task": false
    }
   },
   "outputs": [],
   "source": [
    "# Checking Your Results"
   ]
  },
  {
   "cell_type": "code",
   "execution_count": null,
   "metadata": {},
   "outputs": [],
   "source": [
    "def get_intent(user_input):\n",
    "    \"\"\"Identifies the user's intent from their text input.\n",
    "\n",
    "    Args:\n",
    "      user_input: The user's text input.\n",
    "\n",
    "    Returns:\n",
    "      The identified intent as a string, or \"unknown\" if no intent is found.\n",
    "    \"\"\"\n",
    "    doc = nlp(user_input)\n",
    "    for token in doc:\n",
    "        token_text = token.text.lower()\n",
    "        if token_text in (\"hours\", \"schedule\", \"times\"):\n",
    "            return \"get_school_hours\"\n",
    "        elif token_text == \"contact\" or token_text == \"phone\":\n",
    "            return \"get_contact_info\"\n",
    "        elif \"principal\" in token_text:\n",
    "            return \"get_principal_name\"\n",
    "        elif token_text in ['holidays', 'vacations', 'closings']:\n",
    "            return \"get_holiday_list\"\n",
    "        else:\n",
    "            return \"unknown\""
   ]
  },
  {
   "cell_type": "code",
   "execution_count": null,
   "metadata": {
    "deletable": false,
    "editable": false,
    "nbgrader": {
     "cell_type": "code",
     "checksum": "f3c3ebfce910ed518d2ce59bd7b3e2ce",
     "grade": true,
     "grade_id": "cell-d565a2b691d5566f",
     "locked": true,
     "points": 6,
     "schema_version": 3,
     "solution": false,
     "task": false
    }
   },
   "outputs": [],
   "source": [
    "# Checking Your Results\n"
   ]
  },
  {
   "cell_type": "markdown",
   "metadata": {
    "deletable": false,
    "editable": false,
    "nbgrader": {
     "cell_type": "markdown",
     "checksum": "05f3c13b9718d261543eec4a5a89dcd1",
     "grade": false,
     "grade_id": "cell-ac0510292c065371",
     "locked": true,
     "schema_version": 3,
     "solution": false,
     "task": false
    }
   },
   "source": [
    "## STEP 7.4: Examine main program and test\n",
    "The code to start the program is provided, with no changes required. The code consists of user input, followed by analyzing the intent of the input, followed by getting the response.\n",
    "\n",
    "Ensure the cells in step 6 and 7 have been run, and then execute the code. Try asking questions in a variety of formats. For example, this here are some questions that will yield a list of vacation/holidays:\n",
    "- When are the school holidays this year?\n",
    "- Can I get a list of holidays?\n",
    "- When will my daughter have vacations during the school year?\n",
    "- When are closings this year?\n",
    "\n",
    "Now that you have developed the chatbot prototype and documentation for the planning portion of the assignment, consider adding to it and putting it into your portfolio."
   ]
  },
  {
   "cell_type": "code",
   "execution_count": null,
   "metadata": {
    "deletable": false,
    "editable": false,
    "nbgrader": {
     "cell_type": "code",
     "checksum": "4502b490f6c332b3f77c7ff1351b5bff",
     "grade": false,
     "grade_id": "cell-b612bc05821a84f9",
     "locked": true,
     "schema_version": 3,
     "solution": false,
     "task": false
    }
   },
   "outputs": [],
   "source": [
    "# No changes to this code:\n",
    "user_input = input(\"You: \")\n",
    "intent = get_intent(user_input)\n",
    "response = get_response(intent)\n",
    "print(\"Chatbot:\", response)"
   ]
  },
  {
   "cell_type": "code",
   "execution_count": null,
   "metadata": {},
   "outputs": [],
   "source": [
    "# No changes to this code:\n",
    "user_input = input(\"You: \")\n",
    "intent = get_intent(user_input)\n",
    "response = get_response(intent)\n",
    "print(\"Chatbot:\", response)"
   ]
  },
  {
   "cell_type": "code",
   "execution_count": null,
   "metadata": {},
   "outputs": [],
   "source": []
  },
  {
   "cell_type": "code",
   "execution_count": null,
   "metadata": {},
   "outputs": [],
   "source": []
  },
  {
   "cell_type": "code",
   "execution_count": null,
   "metadata": {},
   "outputs": [],
   "source": []
  }
 ],
 "metadata": {
  "kernelspec": {
   "display_name": "Python 3 (ipykernel)",
   "language": "python",
   "name": "python3"
  },
  "language_info": {
   "codemirror_mode": {
    "name": "ipython",
    "version": 3
   },
   "file_extension": ".py",
   "mimetype": "text/x-python",
   "name": "python",
   "nbconvert_exporter": "python",
   "pygments_lexer": "ipython3",
   "version": "3.10.6"
  }
 },
 "nbformat": 4,
 "nbformat_minor": 2
}
